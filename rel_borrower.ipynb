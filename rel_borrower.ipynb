{
 "cells": [
  {
   "cell_type": "code",
   "execution_count": 1,
   "metadata": {
    "collapsed": true
   },
   "outputs": [],
   "source": [
    "import pandas as pd\n",
    "import matplotlib.pyplot as plt\n",
    "import sys\n",
    "import os\n"
   ]
  },
  {
   "cell_type": "code",
   "execution_count": 2,
   "metadata": {
    "collapsed": true
   },
   "outputs": [],
   "source": [
    "%matplotlib inline"
   ]
  },
  {
   "cell_type": "code",
   "execution_count": 3,
   "metadata": {
    "collapsed": true
   },
   "outputs": [],
   "source": [
    "path = \"accepts_xls_.xlsx\""
   ]
  },
  {
   "cell_type": "code",
   "execution_count": 4,
   "metadata": {},
   "outputs": [
    {
     "name": "stdout",
     "output_type": "stream",
     "text": [
      "     TITLE  CHILDREN  PERS_H  AGE  TMADD  TMJOB1  TEL  NMBLOAN  FINLOAN  \\\n",
      "0        H         0       2   24     30      27    1        0        0   \n",
      "1        H         0       2   37      3      72    2        0        0   \n",
      "2        H         0       2   23      6      30    1        0        1   \n",
      "3        R         2       4   39      9      30    2        2        1   \n",
      "4        R         3       5   28      0     168    1        0        0   \n",
      "5        H         0       2   22      3      84    2        0        1   \n",
      "6        R         0       2   31     36     144    2        0        1   \n",
      "7        R         0       2   28     36      33    2        0        0   \n",
      "8        H         0       2   23    168      84    2        0        0   \n",
      "9        R         0       2   23      9       9    2        0        0   \n",
      "10       H         1       3   41     18     216    2        0        1   \n",
      "11       H         1       3   53    120      84    2        0        0   \n",
      "12       R         0       2   29      9      54    2        2        1   \n",
      "13       H         1       3   29     18      18    2        2        0   \n",
      "14       H         0       2   25     12      27    2        2        1   \n",
      "15       H         1       2   44    108      42    2        0        1   \n",
      "16       R         0       1   54      9     108    2        0        0   \n",
      "17       R         0       1   46    144      30    1        0        0   \n",
      "18       H         4       5   35     60      12    1        0        0   \n",
      "19       H         2       3   38    168      27    1        0        0   \n",
      "20       H         2       3   36     21     216    2        0        1   \n",
      "21       H         1       2   43     42     144    1        0        0   \n",
      "22       R         2       3   29     30     144    1        0        0   \n",
      "23       R         1       2   40    240      60    1        0        0   \n",
      "24       R         0       1   46     60     336    1        0        0   \n",
      "25       R         0       1   70    288     144    1        0        0   \n",
      "26       R         2       3   37     96     168    1        0        0   \n",
      "27       R         0       1   57    168      48    2        2        1   \n",
      "28       R         3       4   39    120      33    1        2        0   \n",
      "29       H         2       3   35     36      45    2        0        1   \n",
      "...    ...       ...     ...  ...    ...     ...  ...      ...      ...   \n",
      "2970     R         2       3   43    264      66    2        0        0   \n",
      "2971     R         0       1   59    999     999    2        0        0   \n",
      "2972     H         0       1   67     42     108    2        0        0   \n",
      "2973     R         0       1   57    288     192    2        0        0   \n",
      "2974     R         1       2   43     60      45    2        0        1   \n",
      "2975     R         2       3   58    999      21    2        0        1   \n",
      "2976     R         0       1   51     18     192    2        0        0   \n",
      "2977     R         0       1   63     21      21    2        0        1   \n",
      "2978     R         2       3   44     54      12    2        0        0   \n",
      "2979     R         0       1   45     24      72    2        0        1   \n",
      "2980     H         1       2   32     36      15    1        0        0   \n",
      "2981     H         1       2   38      3      24    2        0        1   \n",
      "2982     R         2       3   30    108      15    2        0        0   \n",
      "2983     R         0       1   56    240     168    2        0        1   \n",
      "2984     R         0       1   56     54      18    2        0        0   \n",
      "2985     R         3       4   41     15      15    2        0        0   \n",
      "2986     R         0       1   61     21      45    2        0        0   \n",
      "2987     R         1       2   36     12       0    2        0        0   \n",
      "2988     R         2       3   36    216      24    2        0        0   \n",
      "2989     R         0       1   62    120     144    2        0        0   \n",
      "2990     R         1       2   41     84      66    2        0        0   \n",
      "2991     R         0       1   62    108      60    2        0        0   \n",
      "2992     R         0       1   55    216      24    2        0        0   \n",
      "2993     R         0       1   52      6      84    1        0        0   \n",
      "2994     R         0       1   54     60      33    2        0        0   \n",
      "2995     H         0       1   58    999      96    2        2        1   \n",
      "2996     R         1       2   55     60     999    2        2        0   \n",
      "2997     H         0       1   54    192     288    2        2        1   \n",
      "2998     H         2       3   37     84      54    1        1        1   \n",
      "2999     R         0       1   67    168      24    2        2        1   \n",
      "\n",
      "      INCOME ...  LOANS  REGN    CASH           PRODUCT  RESID      NAT  \\\n",
      "0       1900 ...      0     0    2500  Furniture,Carpet  Owner   German   \n",
      "1          0 ...      0     0     700  Dept. Store,Mail  Lease   German   \n",
      "2       2300 ...      5     0    7000  Furniture,Carpet  Lease   German   \n",
      "3       2200 ...      2     0    4000  Furniture,Carpet  Lease   German   \n",
      "4       1700 ...      1     0    4000  Furniture,Carpet  Lease   German   \n",
      "5       2500 ...      1     8    1100              Cars  Lease   German   \n",
      "6       2000 ...      1     2    2000  Furniture,Carpet  Lease   German   \n",
      "7       3500 ...      4     7   15000  Furniture,Carpet  Owner   German   \n",
      "8       2400 ...      1     7    1300           Leisure  Lease   German   \n",
      "9       1900 ...      0     4    8000              Cars  Lease  Turkish   \n",
      "10      2200 ...      1     2   10000              Cars  Owner   German   \n",
      "11      5000 ...      1     6   20000  Furniture,Carpet  Owner   German   \n",
      "12      1800 ...      2     2     500  Furniture,Carpet  Lease   German   \n",
      "13      1700 ...      2     2   15000              Cars  Lease   German   \n",
      "14      5000 ...      1     2     900   Radio, TV, Hifi  Lease   German   \n",
      "15         0 ...      2     0     800   Radio, TV, Hifi  Lease   German   \n",
      "16      1700 ...      0     0     800  Dept. Store,Mail    NaN   German   \n",
      "17      1500 ...      0     0     900   Radio, TV, Hifi  Lease   German   \n",
      "18         0 ...      2     0    1000  Dept. Store,Mail  Lease   German   \n",
      "19      3400 ...      2     0     700   Radio, TV, Hifi  Lease   German   \n",
      "20         0 ...      0     0     600   Radio, TV, Hifi  Lease   German   \n",
      "21      2500 ...      0     0    1300           Leisure  Lease   German   \n",
      "22      2400 ...      2     0    4000  Furniture,Carpet  Lease   German   \n",
      "23         0 ...      1     0    2500  Furniture,Carpet  Lease   German   \n",
      "24      2300 ...      0     0    5000  Furniture,Carpet  Lease   German   \n",
      "25      1000 ...      0     2     700   Radio, TV, Hifi  Lease   German   \n",
      "26      1500 ...      0     0    4000  Furniture,Carpet  Lease   German   \n",
      "27         0 ...      1     0     600   Radio, TV, Hifi  Lease   German   \n",
      "28      2000 ...      0     0    1800  Furniture,Carpet  Lease   German   \n",
      "29      4000 ...      1     0    2500  Furniture,Carpet  Lease   German   \n",
      "...      ... ...    ...   ...     ...               ...    ...      ...   \n",
      "2970    3500 ...      1     5    1000   Radio, TV, Hifi    NaN   German   \n",
      "2971    1900 ...      0     0    1300   Radio, TV, Hifi    NaN   German   \n",
      "2972    2000 ...      0     3   15000  Furniture,Carpet  Lease   German   \n",
      "2973    2300 ...      0     3   15000              Cars  Lease   German   \n",
      "2974    1900 ...      3     9     900   Radio, TV, Hifi  Lease   German   \n",
      "2975    2700 ...      0     7    1500              Cars  Lease   German   \n",
      "2976    4000 ...      3     2   10000   Radio, TV, Hifi  Lease   German   \n",
      "2977    3000 ...      1     2    3000  Dept. Store,Mail  Lease   German   \n",
      "2978    2300 ...      1     4     500  Dept. Store,Mail  Lease   German   \n",
      "2979       0 ...      1     3     900   Radio, TV, Hifi  Lease   German   \n",
      "2980    2300 ...      0     5  100000              Cars  Lease   German   \n",
      "2981       0 ...      0     7    2500   Radio, TV, Hifi  Lease   Others   \n",
      "2982    1800 ...      1     4     500   Radio, TV, Hifi  Lease   German   \n",
      "2983    2100 ...      1     4    2000   Radio, TV, Hifi  Lease   German   \n",
      "2984    1600 ...      0     5    4000  Furniture,Carpet  Lease   German   \n",
      "2985       0 ...      1     6    1100   Radio, TV, Hifi  Lease   German   \n",
      "2986    1600 ...      0     3    2000  Furniture,Carpet  Lease   German   \n",
      "2987    1900 ...      1     2    1200  Furniture,Carpet    NaN   German   \n",
      "2988       0 ...      0     2    1200  Furniture,Carpet    NaN   German   \n",
      "2989    1000 ...      0     4     700  Dept. Store,Mail  Lease   German   \n",
      "2990    2400 ...      0     6    4000  Furniture,Carpet  Lease   German   \n",
      "2991    1800 ...      0     5    1600  Furniture,Carpet    NaN   German   \n",
      "2992    1600 ...      0     4    1300   Radio, TV, Hifi    NaN   German   \n",
      "2993    1500 ...      0     5     700           Leisure  Lease   German   \n",
      "2994    2100 ...      0     3     700  Dept. Store,Mail  Lease   German   \n",
      "2995    2400 ...      3     4    1800   Radio, TV, Hifi  Lease   German   \n",
      "2996    2900 ...      1     2     900  Furniture,Carpet  Owner   German   \n",
      "2997    2200 ...      1     5    1200  Furniture,Carpet  Lease   German   \n",
      "2998    2500 ...      2     3    1300   Radio, TV, Hifi    NaN   German   \n",
      "2999    2800 ...      1     4    3000  Furniture,Carpet  Lease   German   \n",
      "\n",
      "                  PROF               CAR             CARDS GB  \n",
      "0               Others               Car   no credit cards  0  \n",
      "1               Others               Car       Cheque card  0  \n",
      "2               Others               Car   no credit cards  0  \n",
      "3     Civil Service, M               Car   no credit cards  1  \n",
      "4     Civil Service, M   Without Vehicle   no credit cards  1  \n",
      "5               Others               Car   no credit cards  1  \n",
      "6               Others   Without Vehicle   no credit cards  1  \n",
      "7               Others               Car   no credit cards  1  \n",
      "8               Others               Car   no credit cards  0  \n",
      "9               Others               Car   no credit cards  1  \n",
      "10              Others  Car and Motor bi   no credit cards  0  \n",
      "11              Others               Car   no credit cards  0  \n",
      "12              Others   Without Vehicle   no credit cards  1  \n",
      "13    Food,Building,Ca  Car and Motor bi   no credit cards  0  \n",
      "14              Others               Car   no credit cards  1  \n",
      "15    Civil Service, M               Car       Cheque card  0  \n",
      "16    Civil Service, M   Without Vehicle   no credit cards  0  \n",
      "17              Others   Without Vehicle   no credit cards  1  \n",
      "18              Others               Car       Cheque card  0  \n",
      "19              Others               Car   no credit cards  1  \n",
      "20    Civil Service, M               Car       Cheque card  0  \n",
      "21              Others   Without Vehicle   no credit cards  1  \n",
      "22    Civil Service, M               Car   no credit cards  1  \n",
      "23    Civil Service, M               Car       Cheque card  0  \n",
      "24              Others               Car       Cheque card  0  \n",
      "25           Pensioner   Without Vehicle   no credit cards  0  \n",
      "26              Others               Car   no credit cards  1  \n",
      "27           Pensioner   Without Vehicle  Mastercard/Euroc  0  \n",
      "28              Others               Car   no credit cards  0  \n",
      "29              Others               Car   no credit cards  0  \n",
      "...                ...               ...               ... ..  \n",
      "2970            Others               Car   no credit cards  0  \n",
      "2971         Pensioner   Without Vehicle   no credit cards  0  \n",
      "2972         Pensioner   Without Vehicle   no credit cards  1  \n",
      "2973            Others               Car   no credit cards  1  \n",
      "2974  Sea Vojage, Gast               Car   no credit cards  0  \n",
      "2975            Others               Car   no credit cards  1  \n",
      "2976            Others               Car   no credit cards  0  \n",
      "2977         Pensioner   Without Vehicle   no credit cards  0  \n",
      "2978         Pensioner   Without Vehicle   no credit cards  1  \n",
      "2979            Others               Car       Cheque card  0  \n",
      "2980            Others               Car   no credit cards  1  \n",
      "2981            Others               Car       Cheque card  0  \n",
      "2982         Pensioner               Car   no credit cards  1  \n",
      "2983         Pensioner   Without Vehicle   no credit cards  0  \n",
      "2984            Others               Car   no credit cards  0  \n",
      "2985            Others               Car       Cheque card  0  \n",
      "2986         Pensioner   Without Vehicle   no credit cards  0  \n",
      "2987         Pensioner               Car   no credit cards  1  \n",
      "2988            Others               Car       Cheque card  0  \n",
      "2989         Pensioner   Without Vehicle   no credit cards  0  \n",
      "2990            Others               Car   no credit cards  0  \n",
      "2991         Pensioner   Without Vehicle   no credit cards  0  \n",
      "2992         Pensioner   Without Vehicle   no credit cards  1  \n",
      "2993         Pensioner   Without Vehicle   no credit cards  1  \n",
      "2994            Others               Car   no credit cards  0  \n",
      "2995            Others               Car   no credit cards  0  \n",
      "2996            Others               Car   no credit cards  0  \n",
      "2997            Others   Without Vehicle   no credit cards  0  \n",
      "2998            Others               Car   no credit cards  0  \n",
      "2999         Pensioner   Without Vehicle   no credit cards  0  \n",
      "\n",
      "[3000 rows x 24 columns]\n"
     ]
    }
   ],
   "source": [
    "excel = pd.read_excel(path, sheet_name=0)\n",
    "print (excel)"
   ]
  },
  {
   "cell_type": "markdown",
   "metadata": {},
   "source": [
    "Statistics"
   ]
  },
  {
   "cell_type": "code",
   "execution_count": 6,
   "metadata": {},
   "outputs": [
    {
     "data": {
      "text/plain": [
       "1    1500\n",
       "0    1500\n",
       "Name: GB, dtype: int64"
      ]
     },
     "execution_count": 6,
     "metadata": {},
     "output_type": "execute_result"
    }
   ],
   "source": [
    "loan_stat = excel['GB'].value_counts()\n",
    "loan_stat"
   ]
  },
  {
   "cell_type": "code",
   "execution_count": 15,
   "metadata": {},
   "outputs": [
    {
     "data": {
      "text/plain": [
       "CHILDREN\n",
       "0     708\n",
       "1     386\n",
       "2     299\n",
       "3      80\n",
       "4      17\n",
       "5       7\n",
       "6       2\n",
       "23      1\n",
       "dtype: int64"
      ]
     },
     "execution_count": 15,
     "metadata": {},
     "output_type": "execute_result"
    }
   ],
   "source": [
    "children_statistics = excel[excel.GB == 0].groupby('CHILDREN').size()\n",
    "children_statistics"
   ]
  },
  {
   "cell_type": "code",
   "execution_count": null,
   "metadata": {
    "collapsed": true
   },
   "outputs": [],
   "source": []
  }
 ],
 "metadata": {
  "kernelspec": {
   "display_name": "Python 3",
   "language": "python",
   "name": "python3"
  },
  "language_info": {
   "codemirror_mode": {
    "name": "ipython",
    "version": 3
   },
   "file_extension": ".py",
   "mimetype": "text/x-python",
   "name": "python",
   "nbconvert_exporter": "python",
   "pygments_lexer": "ipython3",
   "version": "3.6.1"
  }
 },
 "nbformat": 4,
 "nbformat_minor": 2
}

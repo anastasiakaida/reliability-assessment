{
 "cells": [
  {
   "cell_type": "code",
   "execution_count": 1,
   "metadata": {
    "collapsed": true
   },
   "outputs": [],
   "source": [
    "import pandas as pd\n",
    "import matplotlib.pyplot as plt\n",
    "import sys\n",
    "import os"
   ]
  },
  {
   "cell_type": "code",
   "execution_count": 2,
   "metadata": {
    "collapsed": true
   },
   "outputs": [],
   "source": [
    "%matplotlib inline"
   ]
  },
  {
   "cell_type": "code",
   "execution_count": 3,
   "metadata": {
    "collapsed": true
   },
   "outputs": [],
   "source": [
    "path = \"accepts_xls_.xlsx\""
   ]
  },
  {
   "cell_type": "code",
   "execution_count": 4,
   "metadata": {
    "collapsed": true
   },
   "outputs": [],
   "source": [
    "excel = pd.read_excel(path, sheet_name=0)"
   ]
  },
  {
   "cell_type": "markdown",
   "metadata": {},
   "source": [
    "Statistics"
   ]
  },
  {
   "cell_type": "code",
   "execution_count": 5,
   "metadata": {},
   "outputs": [
    {
     "data": {
      "text/plain": [
       "1    1500\n",
       "0    1500\n",
       "Name: GB, dtype: int64"
      ]
     },
     "execution_count": 5,
     "metadata": {},
     "output_type": "execute_result"
    }
   ],
   "source": [
    "loan_stat = excel['GB'].value_counts()\n",
    "loan_stat"
   ]
  },
  {
   "cell_type": "code",
   "execution_count": 6,
   "metadata": {},
   "outputs": [
    {
     "data": {
      "text/plain": [
       "CHILDREN\n",
       "0     1585\n",
       "1      676\n",
       "2      532\n",
       "3      149\n",
       "4       41\n",
       "5       13\n",
       "6        2\n",
       "8        1\n",
       "23       1\n",
       "dtype: int64"
      ]
     },
     "execution_count": 6,
     "metadata": {},
     "output_type": "execute_result"
    }
   ],
   "source": [
    "children_statistics = excel.groupby('CHILDREN').size()\n",
    "children_statistics"
   ]
  },
  {
   "cell_type": "code",
   "execution_count": 7,
   "metadata": {},
   "outputs": [
    {
     "data": {
      "text/plain": [
       "TMADD\n",
       "0       39\n",
       "3      168\n",
       "6      123\n",
       "9      128\n",
       "12      91\n",
       "15      88\n",
       "18      85\n",
       "21      79\n",
       "24      72\n",
       "30     139\n",
       "36     139\n",
       "42     111\n",
       "48     104\n",
       "54     107\n",
       "60      78\n",
       "66      71\n",
       "72      66\n",
       "84     112\n",
       "96     110\n",
       "108     79\n",
       "120    113\n",
       "144    144\n",
       "168    149\n",
       "192    116\n",
       "216     61\n",
       "240     91\n",
       "264     93\n",
       "288     67\n",
       "312     44\n",
       "336     25\n",
       "360     15\n",
       "999     93\n",
       "dtype: int64"
      ]
     },
     "execution_count": 7,
     "metadata": {},
     "output_type": "execute_result"
    }
   ],
   "source": [
    "tmadd_statistics = excel.groupby('TMADD').size()\n",
    "tmadd_statistics"
   ]
  },
  {
   "cell_type": "code",
   "execution_count": 8,
   "metadata": {},
   "outputs": [
    {
     "data": {
      "text/plain": [
       "TMJOB1\n",
       "0        6\n",
       "3       72\n",
       "6      155\n",
       "9      182\n",
       "12     144\n",
       "15     139\n",
       "18     107\n",
       "21     114\n",
       "24     105\n",
       "27     102\n",
       "30     113\n",
       "33      95\n",
       "36     116\n",
       "39      98\n",
       "42      65\n",
       "45      77\n",
       "48      94\n",
       "54     115\n",
       "60      94\n",
       "66      76\n",
       "72      67\n",
       "84     101\n",
       "96      85\n",
       "108     75\n",
       "120     77\n",
       "144     85\n",
       "168     86\n",
       "192     82\n",
       "216     52\n",
       "240     49\n",
       "288     95\n",
       "336     43\n",
       "999     34\n",
       "dtype: int64"
      ]
     },
     "execution_count": 8,
     "metadata": {},
     "output_type": "execute_result"
    }
   ],
   "source": [
    "tmjob1_statistics = excel.groupby('TMJOB1').size()\n",
    "tmjob1_statistics"
   ]
  },
  {
   "cell_type": "code",
   "execution_count": 10,
   "metadata": {},
   "outputs": [
    {
     "name": "stdout",
     "output_type": "stream",
     "text": [
      "CHILDREN mean: 0.8196666666666667\n",
      "TMJOB1 mean: 79.431\n",
      "TMADD mean: 119.282\n"
     ]
    }
   ],
   "source": [
    "child_mean = excel['CHILDREN'].mean()\n",
    "print(\"CHILDREN mean: \" + str(child_mean))\n",
    "tmjob1_mean = excel['TMJOB1'].mean()\n",
    "print(\"TMJOB1 mean: \" + str(tmjob1_mean))\n",
    "tmadd_mean = excel['TMADD'].mean()\n",
    "print(\"TMADD mean: \" + str(tmadd_mean))\n"
   ]
  },
  {
   "cell_type": "code",
   "execution_count": null,
   "metadata": {
    "collapsed": true
   },
   "outputs": [],
   "source": []
  }
 ],
 "metadata": {
  "kernelspec": {
   "display_name": "Python 3",
   "language": "python",
   "name": "python3"
  },
  "language_info": {
   "codemirror_mode": {
    "name": "ipython",
    "version": 3
   },
   "file_extension": ".py",
   "mimetype": "text/x-python",
   "name": "python",
   "nbconvert_exporter": "python",
   "pygments_lexer": "ipython3",
   "version": "3.6.1"
  }
 },
 "nbformat": 4,
 "nbformat_minor": 2
}
